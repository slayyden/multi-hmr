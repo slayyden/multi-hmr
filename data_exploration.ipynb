{
 "cells": [
  {
   "cell_type": "code",
   "execution_count": 20,
   "metadata": {},
   "outputs": [],
   "source": [
    "import pickle as pkl\n",
    "import numpy as np\n",
    "import smplx\n",
    "with open(\"/host/multi-hmr/demo_out_2/00107_multiHMR_896_L.png.pkl\", \"rb\") as f:\n",
    "    data = pkl.load(f)\n",
    "data = data[0]\n",
    "template = np.load(\"/host/multi-hmr/models/smplx/SMPLX_NEUTRAL.npz\", allow_pickle=True)"
   ]
  },
  {
   "cell_type": "code",
   "execution_count": 18,
   "metadata": {},
   "outputs": [
    {
     "name": "stdout",
     "output_type": "stream",
     "text": [
      "hands_meanr:\n",
      "(45,)\n",
      "hands_meanl:\n",
      "(45,)\n",
      "lmk_bary_coords:\n",
      "(51, 3)\n",
      "vt:\n",
      "(11313, 2)\n",
      "posedirs:\n",
      "(10475, 3, 486)\n",
      "part2num:\n",
      "()\n",
      "hands_coeffsr:\n",
      "(1554, 45)\n",
      "lmk_faces_idx:\n",
      "(51,)\n",
      "J_regressor:\n",
      "(55, 10475)\n",
      "dynamic_lmk_faces_idx:\n",
      "(79, 17)\n",
      "hands_componentsr:\n",
      "(45, 45)\n",
      "shapedirs:\n",
      "(10475, 3, 400)\n",
      "dynamic_lmk_bary_coords:\n",
      "(79, 17, 3)\n",
      "ft:\n",
      "(20908, 3)\n",
      "hands_componentsl:\n",
      "(45, 45)\n",
      "joint2num:\n",
      "()\n",
      "v_template:\n",
      "(10475, 3)\n",
      "allow_pickle:\n",
      "()\n",
      "f:\n",
      "(20908, 3)\n",
      "hands_coeffsl:\n",
      "(1554, 45)\n",
      "kintree_table:\n",
      "(2, 55)\n",
      "weights:\n",
      "(10475, 55)\n"
     ]
    },
    {
     "ename": "AttributeError",
     "evalue": "'list' object has no attribute 'keys'",
     "output_type": "error",
     "traceback": [
      "\u001b[0;31m---------------------------------------------------------------------------\u001b[0m",
      "\u001b[0;31mAttributeError\u001b[0m                            Traceback (most recent call last)",
      "Cell \u001b[0;32mIn[18], line 5\u001b[0m\n\u001b[1;32m      2\u001b[0m     \u001b[38;5;28mprint\u001b[39m(file \u001b[38;5;241m+\u001b[39m \u001b[38;5;124m\"\u001b[39m\u001b[38;5;124m:\u001b[39m\u001b[38;5;124m\"\u001b[39m)\n\u001b[1;32m      3\u001b[0m     \u001b[38;5;28mprint\u001b[39m(template[file]\u001b[38;5;241m.\u001b[39mshape)\n\u001b[0;32m----> 5\u001b[0m \u001b[38;5;28;01mfor\u001b[39;00m key \u001b[38;5;129;01min\u001b[39;00m \u001b[43mdata\u001b[49m\u001b[38;5;241;43m.\u001b[39;49m\u001b[43mkeys\u001b[49m():\n\u001b[1;32m      6\u001b[0m     \u001b[38;5;28mprint\u001b[39m(data[key])\n",
      "\u001b[0;31mAttributeError\u001b[0m: 'list' object has no attribute 'keys'"
     ]
    }
   ],
   "source": [
    "for file in template.files:\n",
    "    print(file + \":\")\n",
    "    print(template[file].shape)\n"
   ]
  },
  {
   "cell_type": "code",
   "execution_count": 21,
   "metadata": {},
   "outputs": [
    {
     "name": "stdout",
     "output_type": "stream",
     "text": [
      "torch.Size([])\n",
      "torch.Size([2])\n",
      "torch.Size([3])\n",
      "torch.Size([1, 3])\n",
      "torch.Size([53, 3])\n",
      "torch.Size([10])\n",
      "torch.Size([10])\n",
      "torch.Size([10475, 3])\n",
      "torch.Size([127, 3])\n",
      "torch.Size([127, 2])\n"
     ]
    }
   ],
   "source": [
    "for key in data.keys():\n",
    "    print(key + \":\", data[key].shape)"
   ]
  }
 ],
 "metadata": {
  "kernelspec": {
   "display_name": "multihmr",
   "language": "python",
   "name": "python3"
  },
  "language_info": {
   "codemirror_mode": {
    "name": "ipython",
    "version": 3
   },
   "file_extension": ".py",
   "mimetype": "text/x-python",
   "name": "python",
   "nbconvert_exporter": "python",
   "pygments_lexer": "ipython3",
   "version": "3.9.19"
  }
 },
 "nbformat": 4,
 "nbformat_minor": 2
}
